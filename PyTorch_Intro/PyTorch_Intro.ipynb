{
  "nbformat": 4,
  "nbformat_minor": 0,
  "metadata": {
    "colab": {
      "provenance": []
    },
    "kernelspec": {
      "name": "python3",
      "display_name": "Python 3"
    },
    "language_info": {
      "name": "python"
    }
  },
  "cells": [
    {
      "cell_type": "code",
      "source": [
        "!pip install torch"
      ],
      "metadata": {
        "id": "TeLGL4hZp12s"
      },
      "execution_count": null,
      "outputs": []
    },
    {
      "cell_type": "code",
      "source": [
        "import torch\n",
        "import numpy as np"
      ],
      "metadata": {
        "id": "zIgXDY0wqGmc"
      },
      "execution_count": 18,
      "outputs": []
    },
    {
      "cell_type": "code",
      "execution_count": 19,
      "metadata": {
        "colab": {
          "base_uri": "https://localhost:8080/"
        },
        "id": "0wjmAOJnnmvv",
        "outputId": "f3b42bdf-d7c7-47e1-dc0d-e3f8c55f3a32"
      },
      "outputs": [
        {
          "output_type": "execute_result",
          "data": {
            "text/plain": [
              "tensor([[[2.1707e-18, 7.0952e+22, 1.7748e+28, 1.8176e+31, 7.2708e+31],\n",
              "         [5.0778e+31, 3.2608e-12, 1.7728e+28, 7.0367e+22, 2.1715e-18],\n",
              "         [4.1722e-08, 6.7127e-07, 8.3023e-10, 8.3092e+20, 1.9970e+20],\n",
              "         [1.0026e-11, 6.4105e-10, 5.2435e-08, 1.6708e-07, 2.1707e-18]],\n",
              "\n",
              "        [[7.1450e+31, 6.1970e-04, 2.8909e+26, 9.6324e-40, 4.0357e-43],\n",
              "         [0.0000e+00, 2.9287e-43, 0.0000e+00, 6.7224e-34, 0.0000e+00],\n",
              "         [1.7616e+01, 4.5628e-41, 0.0000e+00, 0.0000e+00, 0.0000e+00],\n",
              "         [0.0000e+00, 0.0000e+00, 4.5628e-41, 2.7340e+20, 6.8589e+22]],\n",
              "\n",
              "        [[1.5766e-19, 1.4600e-19, 4.8604e+30, 1.7469e+19, 3.0958e-18],\n",
              "         [1.0558e-05, 2.1707e-18, 1.9210e+31, 1.7703e+31, 7.6814e+31],\n",
              "         [2.3316e-09, 1.4587e-19, 7.2708e+31, 7.1430e+31, 1.5766e-19],\n",
              "         [7.0295e+28, 1.6312e+19, 7.0976e+22, 1.8609e+34, 1.8315e+25]]])"
            ]
          },
          "metadata": {},
          "execution_count": 19
        }
      ],
      "source": [
        "# Создайте случайный FloatTensor размера 3x4x5\n",
        "a = torch.FloatTensor(3, 4, 5)\n",
        "a"
      ]
    },
    {
      "cell_type": "code",
      "source": [
        "# Выведите его форму (shape)\n",
        "a.shape"
      ],
      "metadata": {
        "colab": {
          "base_uri": "https://localhost:8080/"
        },
        "id": "b5bZ2L2VqqX5",
        "outputId": "14de3598-5eae-41ad-f24f-6a776e1b29f8"
      },
      "execution_count": 20,
      "outputs": [
        {
          "output_type": "execute_result",
          "data": {
            "text/plain": [
              "torch.Size([3, 4, 5])"
            ]
          },
          "metadata": {},
          "execution_count": 20
        }
      ]
    },
    {
      "cell_type": "code",
      "source": [
        "# Приведите его к форме 6х10\n",
        "a = a.reshape(6, 10)\n",
        "a"
      ],
      "metadata": {
        "colab": {
          "base_uri": "https://localhost:8080/"
        },
        "id": "QlhEXlaLrFwO",
        "outputId": "417581d8-3312-4edc-d764-c8a9fed2b94e"
      },
      "execution_count": 21,
      "outputs": [
        {
          "output_type": "execute_result",
          "data": {
            "text/plain": [
              "tensor([[2.1707e-18, 7.0952e+22, 1.7748e+28, 1.8176e+31, 7.2708e+31, 5.0778e+31,\n",
              "         3.2608e-12, 1.7728e+28, 7.0367e+22, 2.1715e-18],\n",
              "        [4.1722e-08, 6.7127e-07, 8.3023e-10, 8.3092e+20, 1.9970e+20, 1.0026e-11,\n",
              "         6.4105e-10, 5.2435e-08, 1.6708e-07, 2.1707e-18],\n",
              "        [7.1450e+31, 6.1970e-04, 2.8909e+26, 9.6324e-40, 4.0357e-43, 0.0000e+00,\n",
              "         2.9287e-43, 0.0000e+00, 6.7224e-34, 0.0000e+00],\n",
              "        [1.7616e+01, 4.5628e-41, 0.0000e+00, 0.0000e+00, 0.0000e+00, 0.0000e+00,\n",
              "         0.0000e+00, 4.5628e-41, 2.7340e+20, 6.8589e+22],\n",
              "        [1.5766e-19, 1.4600e-19, 4.8604e+30, 1.7469e+19, 3.0958e-18, 1.0558e-05,\n",
              "         2.1707e-18, 1.9210e+31, 1.7703e+31, 7.6814e+31],\n",
              "        [2.3316e-09, 1.4587e-19, 7.2708e+31, 7.1430e+31, 1.5766e-19, 7.0295e+28,\n",
              "         1.6312e+19, 7.0976e+22, 1.8609e+34, 1.8315e+25]])"
            ]
          },
          "metadata": {},
          "execution_count": 21
        }
      ]
    },
    {
      "cell_type": "code",
      "source": [
        "a.shape"
      ],
      "metadata": {
        "colab": {
          "base_uri": "https://localhost:8080/"
        },
        "id": "etU-pDoOraeI",
        "outputId": "addd3573-fd24-4243-e5fe-a1e47e415c1d"
      },
      "execution_count": 22,
      "outputs": [
        {
          "output_type": "execute_result",
          "data": {
            "text/plain": [
              "torch.Size([6, 10])"
            ]
          },
          "metadata": {},
          "execution_count": 22
        }
      ]
    },
    {
      "cell_type": "code",
      "source": [
        "# Создайте случайный IntTensor размера 10\n",
        "b = torch.IntTensor(10)\n",
        "b"
      ],
      "metadata": {
        "colab": {
          "base_uri": "https://localhost:8080/"
        },
        "id": "a4kFUEjVrg2c",
        "outputId": "7239f091-f7c4-4f16-98ba-b688a4fa42a5"
      },
      "execution_count": 23,
      "outputs": [
        {
          "output_type": "execute_result",
          "data": {
            "text/plain": [
              "tensor([140275776,         0, 139614464,         0,        32,         0,\n",
              "               48,         0, 139615696,         0], dtype=torch.int32)"
            ]
          },
          "metadata": {},
          "execution_count": 23
        }
      ]
    },
    {
      "cell_type": "code",
      "source": [
        "# Умножьте созданный FloatTensor на созданный IntTensor поэлементно\n",
        "c = a * b\n",
        "c"
      ],
      "metadata": {
        "colab": {
          "base_uri": "https://localhost:8080/"
        },
        "id": "uYFd7D1Yr34G",
        "outputId": "9f5a6873-745c-49de-d505-b3337e306f89"
      },
      "execution_count": 24,
      "outputs": [
        {
          "output_type": "execute_result",
          "data": {
            "text/plain": [
              "tensor([[3.0450e-10, 0.0000e+00, 2.4779e+36, 0.0000e+00, 2.3267e+33, 0.0000e+00,\n",
              "         1.5652e-10, 0.0000e+00, 9.8243e+30, 0.0000e+00],\n",
              "        [5.8525e+00, 0.0000e+00, 1.1591e-01, 0.0000e+00, 6.3904e+21, 0.0000e+00,\n",
              "         3.0771e-08, 0.0000e+00, 2.3327e+01, 0.0000e+00],\n",
              "        [       inf, 0.0000e+00, 4.0362e+34, 0.0000e+00, 1.2914e-41, 0.0000e+00,\n",
              "         1.4058e-41, 0.0000e+00, 9.3855e-26, 0.0000e+00],\n",
              "        [2.4710e+09, 0.0000e+00, 0.0000e+00, 0.0000e+00, 0.0000e+00, 0.0000e+00,\n",
              "         0.0000e+00, 0.0000e+00, 3.8171e+28, 0.0000e+00],\n",
              "        [2.2116e-11, 0.0000e+00,        inf, 0.0000e+00, 9.9066e-17, 0.0000e+00,\n",
              "         1.0420e-16, 0.0000e+00,        inf, 0.0000e+00],\n",
              "        [3.2707e-01, 0.0000e+00,        inf, 0.0000e+00, 5.0452e-18, 0.0000e+00,\n",
              "         7.8300e+20, 0.0000e+00,        inf, 0.0000e+00]])"
            ]
          },
          "metadata": {},
          "execution_count": 24
        }
      ]
    },
    {
      "cell_type": "code",
      "source": [
        "# либо\n",
        "c = a.mul(b)\n",
        "c"
      ],
      "metadata": {
        "colab": {
          "base_uri": "https://localhost:8080/"
        },
        "id": "XxXg0KlKl3XV",
        "outputId": "23cbabf9-eadb-4c9f-ead4-938a82bba3ca"
      },
      "execution_count": 25,
      "outputs": [
        {
          "output_type": "execute_result",
          "data": {
            "text/plain": [
              "tensor([[3.0450e-10, 0.0000e+00, 2.4779e+36, 0.0000e+00, 2.3267e+33, 0.0000e+00,\n",
              "         1.5652e-10, 0.0000e+00, 9.8243e+30, 0.0000e+00],\n",
              "        [5.8525e+00, 0.0000e+00, 1.1591e-01, 0.0000e+00, 6.3904e+21, 0.0000e+00,\n",
              "         3.0771e-08, 0.0000e+00, 2.3327e+01, 0.0000e+00],\n",
              "        [       inf, 0.0000e+00, 4.0362e+34, 0.0000e+00, 1.2914e-41, 0.0000e+00,\n",
              "         1.4058e-41, 0.0000e+00, 9.3855e-26, 0.0000e+00],\n",
              "        [2.4710e+09, 0.0000e+00, 0.0000e+00, 0.0000e+00, 0.0000e+00, 0.0000e+00,\n",
              "         0.0000e+00, 0.0000e+00, 3.8171e+28, 0.0000e+00],\n",
              "        [2.2116e-11, 0.0000e+00,        inf, 0.0000e+00, 9.9066e-17, 0.0000e+00,\n",
              "         1.0420e-16, 0.0000e+00,        inf, 0.0000e+00],\n",
              "        [3.2707e-01, 0.0000e+00,        inf, 0.0000e+00, 5.0452e-18, 0.0000e+00,\n",
              "         7.8300e+20, 0.0000e+00,        inf, 0.0000e+00]])"
            ]
          },
          "metadata": {},
          "execution_count": 25
        }
      ]
    },
    {
      "cell_type": "code",
      "source": [
        "# Умножьте тензор матрично на себя, чтобы результат был размерности 6x6\n",
        "d = a.matmul(a.T)\n",
        "d"
      ],
      "metadata": {
        "colab": {
          "base_uri": "https://localhost:8080/"
        },
        "id": "90x4F-T4kFy1",
        "outputId": "1a2d709e-d08e-41e7-f5fe-f0fce2b2f617"
      },
      "execution_count": 26,
      "outputs": [
        {
          "output_type": "execute_result",
          "data": {
            "text/plain": [
              "tensor([[       inf,        inf,        inf,        inf,        inf,        inf],\n",
              "        [       inf,        inf, 2.9810e+24, 4.5679e+13,        inf,        inf],\n",
              "        [       inf, 2.9810e+24,        inf, 1.2586e+33,        inf,        inf],\n",
              "        [       inf, 4.5679e+13, 1.2586e+33,        inf,        inf,        inf],\n",
              "        [       inf,        inf,        inf,        inf,        inf,        inf],\n",
              "        [       inf,        inf,        inf,        inf,        inf,        inf]])"
            ]
          },
          "metadata": {},
          "execution_count": 26
        }
      ]
    },
    {
      "cell_type": "code",
      "source": [
        "# Посчитайте производную функции y = x**3 + z - 75t в точке (1, 0.5, 2)\n",
        "x = torch.tensor([1.0], requires_grad=True)\n",
        "z = torch.tensor([0.5], requires_grad=True)\n",
        "t = torch.tensor([2.0], requires_grad=True)\n",
        "\n",
        "y = x**3 + z - 75*t\n",
        "y.backward()\n",
        "\n",
        "print('∂(y)/∂(x) =', x.grad.item())\n",
        "print('∂(y)/∂(z) =', z.grad.item())\n",
        "print('∂(y)/∂(t) =', t.grad.item())"
      ],
      "metadata": {
        "colab": {
          "base_uri": "https://localhost:8080/"
        },
        "id": "zMGdIbw9kIKV",
        "outputId": "32f4d183-2fd8-48fe-bf5a-2354d8979747"
      },
      "execution_count": 35,
      "outputs": [
        {
          "output_type": "stream",
          "name": "stdout",
          "text": [
            "∂(y)/∂(x) = 3.0\n",
            "∂(y)/∂(z) = 1.0\n",
            "∂(y)/∂(t) = -75.0\n"
          ]
        }
      ]
    },
    {
      "cell_type": "code",
      "source": [
        "# Создайте единичный тензор размера 5x6\n",
        "z = torch.ones(5, 6)\n",
        "z"
      ],
      "metadata": {
        "colab": {
          "base_uri": "https://localhost:8080/"
        },
        "id": "hTihEzwTkMp4",
        "outputId": "3da573cf-1f95-4bf6-afac-d5af1d70be48"
      },
      "execution_count": 30,
      "outputs": [
        {
          "output_type": "execute_result",
          "data": {
            "text/plain": [
              "tensor([[1., 1., 1., 1., 1., 1.],\n",
              "        [1., 1., 1., 1., 1., 1.],\n",
              "        [1., 1., 1., 1., 1., 1.],\n",
              "        [1., 1., 1., 1., 1., 1.],\n",
              "        [1., 1., 1., 1., 1., 1.]])"
            ]
          },
          "metadata": {},
          "execution_count": 30
        }
      ]
    },
    {
      "cell_type": "code",
      "source": [
        "type(z)"
      ],
      "metadata": {
        "colab": {
          "base_uri": "https://localhost:8080/"
        },
        "id": "CCJcnGh3qEKS",
        "outputId": "6fd7d44c-c523-4b3c-f8fe-278a214e7c9c"
      },
      "execution_count": 31,
      "outputs": [
        {
          "output_type": "execute_result",
          "data": {
            "text/plain": [
              "torch.Tensor"
            ]
          },
          "metadata": {},
          "execution_count": 31
        }
      ]
    },
    {
      "cell_type": "code",
      "source": [
        "# Переведите его в формат numpy\n",
        "numpy_arr = z.numpy()\n",
        "numpy_arr"
      ],
      "metadata": {
        "colab": {
          "base_uri": "https://localhost:8080/"
        },
        "id": "31GjlW6WkS7y",
        "outputId": "3d9597ad-dc1b-417d-8e37-3a1a02a688e4"
      },
      "execution_count": 32,
      "outputs": [
        {
          "output_type": "execute_result",
          "data": {
            "text/plain": [
              "array([[1., 1., 1., 1., 1., 1.],\n",
              "       [1., 1., 1., 1., 1., 1.],\n",
              "       [1., 1., 1., 1., 1., 1.],\n",
              "       [1., 1., 1., 1., 1., 1.],\n",
              "       [1., 1., 1., 1., 1., 1.]], dtype=float32)"
            ]
          },
          "metadata": {},
          "execution_count": 32
        }
      ]
    },
    {
      "cell_type": "code",
      "source": [
        "type(numpy_arr)"
      ],
      "metadata": {
        "colab": {
          "base_uri": "https://localhost:8080/"
        },
        "id": "GNL_RkkvqJo0",
        "outputId": "e8eca345-a922-4534-db99-9a1bad0f605c"
      },
      "execution_count": 33,
      "outputs": [
        {
          "output_type": "execute_result",
          "data": {
            "text/plain": [
              "numpy.ndarray"
            ]
          },
          "metadata": {},
          "execution_count": 33
        }
      ]
    }
  ]
}