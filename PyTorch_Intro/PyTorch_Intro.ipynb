{
  "nbformat": 4,
  "nbformat_minor": 0,
  "metadata": {
    "colab": {
      "provenance": []
    },
    "kernelspec": {
      "name": "python3",
      "display_name": "Python 3"
    },
    "language_info": {
      "name": "python"
    }
  },
  "cells": [
    {
      "cell_type": "code",
      "source": [
        "!pip install torch"
      ],
      "metadata": {
        "colab": {
          "base_uri": "https://localhost:8080/"
        },
        "id": "TeLGL4hZp12s",
        "outputId": "cd531cc9-74ed-4390-b2fb-2023db0c9521"
      },
      "execution_count": 1,
      "outputs": [
        {
          "output_type": "stream",
          "name": "stdout",
          "text": [
            "Looking in indexes: https://pypi.org/simple, https://us-python.pkg.dev/colab-wheels/public/simple/\n",
            "Requirement already satisfied: torch in /usr/local/lib/python3.10/dist-packages (2.0.1+cu118)\n",
            "Requirement already satisfied: filelock in /usr/local/lib/python3.10/dist-packages (from torch) (3.12.2)\n",
            "Requirement already satisfied: typing-extensions in /usr/local/lib/python3.10/dist-packages (from torch) (4.6.3)\n",
            "Requirement already satisfied: sympy in /usr/local/lib/python3.10/dist-packages (from torch) (1.11.1)\n",
            "Requirement already satisfied: networkx in /usr/local/lib/python3.10/dist-packages (from torch) (3.1)\n",
            "Requirement already satisfied: jinja2 in /usr/local/lib/python3.10/dist-packages (from torch) (3.1.2)\n",
            "Requirement already satisfied: triton==2.0.0 in /usr/local/lib/python3.10/dist-packages (from torch) (2.0.0)\n",
            "Requirement already satisfied: cmake in /usr/local/lib/python3.10/dist-packages (from triton==2.0.0->torch) (3.25.2)\n",
            "Requirement already satisfied: lit in /usr/local/lib/python3.10/dist-packages (from triton==2.0.0->torch) (16.0.6)\n",
            "Requirement already satisfied: MarkupSafe>=2.0 in /usr/local/lib/python3.10/dist-packages (from jinja2->torch) (2.1.3)\n",
            "Requirement already satisfied: mpmath>=0.19 in /usr/local/lib/python3.10/dist-packages (from sympy->torch) (1.3.0)\n"
          ]
        }
      ]
    },
    {
      "cell_type": "code",
      "source": [
        "import torch\n",
        "import numpy as np\n"
      ],
      "metadata": {
        "id": "zIgXDY0wqGmc"
      },
      "execution_count": 2,
      "outputs": []
    },
    {
      "cell_type": "code",
      "execution_count": 3,
      "metadata": {
        "colab": {
          "base_uri": "https://localhost:8080/"
        },
        "id": "0wjmAOJnnmvv",
        "outputId": "1e7efe4e-0a61-4a0e-c728-c8e1d98ed568"
      },
      "outputs": [
        {
          "output_type": "execute_result",
          "data": {
            "text/plain": [
              "tensor([[[-1.3255e-04,  4.5647e-41,  9.1888e-35,  0.0000e+00,  9.1915e-35],\n",
              "         [ 0.0000e+00,  7.2868e-44,  0.0000e+00,  9.1913e-35,  0.0000e+00],\n",
              "         [ 1.5877e-42,  2.4102e-43,  9.1915e-35,  0.0000e+00,  7.2868e-44],\n",
              "         [ 4.5646e-41,  9.1913e-35,  0.0000e+00,  1.5891e-42,  0.0000e+00]],\n",
              "\n",
              "        [[ 9.1915e-35,  0.0000e+00,  7.2868e-44,  2.4102e-43,  9.1914e-35],\n",
              "         [ 0.0000e+00,  1.5905e-42,  4.5647e-41,  9.1915e-35,  0.0000e+00],\n",
              "         [ 7.2868e-44,  2.2575e+15,  9.1914e-35,  0.0000e+00,  1.5961e-42],\n",
              "         [ 2.4102e-43,  9.1915e-35,  0.0000e+00,  7.2868e-44,  0.0000e+00]],\n",
              "\n",
              "        [[ 9.1914e-35,  0.0000e+00,  3.3631e-44,  0.0000e+00, -7.4000e-05],\n",
              "         [ 4.5647e-41,  1.4013e-45,  0.0000e+00,  9.1906e-35,  0.0000e+00],\n",
              "         [ 5.6052e-45,  1.1210e-43,  5.6052e-45,  1.1911e-43,  3.3631e-44],\n",
              "         [ 0.0000e+00, -1.1128e+17,  4.5646e-41,  1.4013e-45,  4.5646e-41]]])"
            ]
          },
          "metadata": {},
          "execution_count": 3
        }
      ],
      "source": [
        "# Создайте случайный FloatTensor размера 3x4x5\n",
        "a = torch.FloatTensor(3, 4, 5)\n",
        "a"
      ]
    },
    {
      "cell_type": "code",
      "source": [
        "# Выведите его форму (shape)\n",
        "a.shape"
      ],
      "metadata": {
        "colab": {
          "base_uri": "https://localhost:8080/"
        },
        "id": "b5bZ2L2VqqX5",
        "outputId": "10d28456-2e71-49c1-9713-3a4b2a8f0897"
      },
      "execution_count": 4,
      "outputs": [
        {
          "output_type": "execute_result",
          "data": {
            "text/plain": [
              "torch.Size([3, 4, 5])"
            ]
          },
          "metadata": {},
          "execution_count": 4
        }
      ]
    },
    {
      "cell_type": "code",
      "source": [
        "# Приведите его к форме 6х10\n",
        "a = a.reshape(6, 10)\n",
        "a"
      ],
      "metadata": {
        "colab": {
          "base_uri": "https://localhost:8080/"
        },
        "id": "QlhEXlaLrFwO",
        "outputId": "c5478e34-4cf6-4919-f507-5f0266f57a83"
      },
      "execution_count": 5,
      "outputs": [
        {
          "output_type": "execute_result",
          "data": {
            "text/plain": [
              "tensor([[-1.3255e-04,  4.5647e-41,  9.1888e-35,  0.0000e+00,  9.1915e-35,\n",
              "          0.0000e+00,  7.2868e-44,  0.0000e+00,  9.1913e-35,  0.0000e+00],\n",
              "        [ 1.5877e-42,  2.4102e-43,  9.1915e-35,  0.0000e+00,  7.2868e-44,\n",
              "          4.5646e-41,  9.1913e-35,  0.0000e+00,  1.5891e-42,  0.0000e+00],\n",
              "        [ 9.1915e-35,  0.0000e+00,  7.2868e-44,  2.4102e-43,  9.1914e-35,\n",
              "          0.0000e+00,  1.5905e-42,  4.5647e-41,  9.1915e-35,  0.0000e+00],\n",
              "        [ 7.2868e-44,  2.2575e+15,  9.1914e-35,  0.0000e+00,  1.5961e-42,\n",
              "          2.4102e-43,  9.1915e-35,  0.0000e+00,  7.2868e-44,  0.0000e+00],\n",
              "        [ 9.1914e-35,  0.0000e+00,  3.3631e-44,  0.0000e+00, -7.4000e-05,\n",
              "          4.5647e-41,  1.4013e-45,  0.0000e+00,  9.1906e-35,  0.0000e+00],\n",
              "        [ 5.6052e-45,  1.1210e-43,  5.6052e-45,  1.1911e-43,  3.3631e-44,\n",
              "          0.0000e+00, -1.1128e+17,  4.5646e-41,  1.4013e-45,  4.5646e-41]])"
            ]
          },
          "metadata": {},
          "execution_count": 5
        }
      ]
    },
    {
      "cell_type": "code",
      "source": [
        "a.shape"
      ],
      "metadata": {
        "colab": {
          "base_uri": "https://localhost:8080/"
        },
        "id": "etU-pDoOraeI",
        "outputId": "b3a603cd-d9c6-4034-9deb-a41db6a9a309"
      },
      "execution_count": 6,
      "outputs": [
        {
          "output_type": "execute_result",
          "data": {
            "text/plain": [
              "torch.Size([6, 10])"
            ]
          },
          "metadata": {},
          "execution_count": 6
        }
      ]
    },
    {
      "cell_type": "code",
      "source": [
        "# Создайте случайный IntTensor размера 10\n",
        "b = torch.IntTensor(10)\n",
        "b"
      ],
      "metadata": {
        "colab": {
          "base_uri": "https://localhost:8080/"
        },
        "id": "a4kFUEjVrg2c",
        "outputId": "eee249b4-7cf4-4d2b-d894-ef5d6cf53fed"
      },
      "execution_count": 7,
      "outputs": [
        {
          "output_type": "execute_result",
          "data": {
            "text/plain": [
              "tensor([117639008,         0, 117641648,         0,     65537,  16842753,\n",
              "         16842753,  16842753,  16842753,     65537], dtype=torch.int32)"
            ]
          },
          "metadata": {},
          "execution_count": 7
        }
      ]
    },
    {
      "cell_type": "code",
      "source": [
        "# Умножьте созданный FloatTensor на созданный IntTensor поэлементно\n",
        "c = a * b\n",
        "c"
      ],
      "metadata": {
        "colab": {
          "base_uri": "https://localhost:8080/"
        },
        "id": "uYFd7D1Yr34G",
        "outputId": "81bcdda9-6667-4bdf-c22a-5784b43234e0"
      },
      "execution_count": 8,
      "outputs": [
        {
          "output_type": "execute_result",
          "data": {
            "text/plain": [
              "tensor([[-1.5593e+04,  0.0000e+00,  1.0810e-26,  0.0000e+00,  6.0238e-30,\n",
              "          0.0000e+00,  1.2273e-36,  0.0000e+00,  1.5481e-27,  0.0000e+00],\n",
              "        [ 1.8677e-34,  0.0000e+00,  1.0813e-26,  0.0000e+00,  4.7755e-39,\n",
              "          7.6880e-34,  1.5481e-27,  0.0000e+00,  2.6764e-35,  0.0000e+00],\n",
              "        [ 1.0813e-26,  0.0000e+00,  8.5723e-36,  0.0000e+00,  6.0237e-30,\n",
              "          0.0000e+00,  2.6788e-35,  7.6883e-34,  1.5481e-27,  0.0000e+00],\n",
              "        [ 8.5721e-36,  0.0000e+00,  1.0813e-26,  0.0000e+00,  1.0460e-37,\n",
              "          4.0595e-36,  1.5481e-27,  0.0000e+00,  1.2273e-36,  0.0000e+00],\n",
              "        [ 1.0813e-26,  0.0000e+00,  3.9564e-36,  0.0000e+00, -4.8498e+00,\n",
              "          7.6883e-34,  2.3602e-38,  0.0000e+00,  1.5479e-27,  0.0000e+00],\n",
              "        [ 6.5939e-37,  0.0000e+00,  6.5940e-37,  0.0000e+00,  2.2041e-39,\n",
              "          0.0000e+00, -1.8742e+24,  7.6880e-34,  2.3602e-38,  2.9915e-36]])"
            ]
          },
          "metadata": {},
          "execution_count": 8
        }
      ]
    },
    {
      "cell_type": "code",
      "source": [
        "# либо\n",
        "c = a.mul(b)\n",
        "c"
      ],
      "metadata": {
        "colab": {
          "base_uri": "https://localhost:8080/"
        },
        "id": "XxXg0KlKl3XV",
        "outputId": "d255a8b7-92d7-46a0-afc3-2240d3f655b7"
      },
      "execution_count": 14,
      "outputs": [
        {
          "output_type": "execute_result",
          "data": {
            "text/plain": [
              "tensor([[-1.5593e+04,  0.0000e+00,  1.0810e-26,  0.0000e+00,  6.0238e-30,\n",
              "          0.0000e+00,  1.2273e-36,  0.0000e+00,  1.5481e-27,  0.0000e+00],\n",
              "        [ 1.8677e-34,  0.0000e+00,  1.0813e-26,  0.0000e+00,  4.7755e-39,\n",
              "          7.6880e-34,  1.5481e-27,  0.0000e+00,  2.6764e-35,  0.0000e+00],\n",
              "        [ 1.0813e-26,  0.0000e+00,  8.5723e-36,  0.0000e+00,  6.0237e-30,\n",
              "          0.0000e+00,  2.6788e-35,  7.6883e-34,  1.5481e-27,  0.0000e+00],\n",
              "        [ 8.5721e-36,  0.0000e+00,  1.0813e-26,  0.0000e+00,  1.0460e-37,\n",
              "          4.0595e-36,  1.5481e-27,  0.0000e+00,  1.2273e-36,  0.0000e+00],\n",
              "        [ 1.0813e-26,  0.0000e+00,  3.9564e-36,  0.0000e+00, -4.8498e+00,\n",
              "          7.6883e-34,  2.3602e-38,  0.0000e+00,  1.5479e-27,  0.0000e+00],\n",
              "        [ 6.5939e-37,  0.0000e+00,  6.5940e-37,  0.0000e+00,  2.2041e-39,\n",
              "          0.0000e+00, -1.8742e+24,  7.6880e-34,  2.3602e-38,  2.9915e-36]])"
            ]
          },
          "metadata": {},
          "execution_count": 14
        }
      ]
    },
    {
      "cell_type": "code",
      "source": [
        "# Умножьте тензор матрично на себя, чтобы результат был размерности 6x6 Подсказка: .dot может не подойти\n",
        "d = a.matmul(a.T)\n",
        "d"
      ],
      "metadata": {
        "colab": {
          "base_uri": "https://localhost:8080/"
        },
        "id": "90x4F-T4kFy1",
        "outputId": "63f3c0e2-b662-4128-ff69-875d500e0b44"
      },
      "execution_count": 20,
      "outputs": [
        {
          "output_type": "execute_result",
          "data": {
            "text/plain": [
              "tensor([[ 1.7568e-08,  0.0000e+00, -1.2183e-38,  1.0305e-25, -1.8985e-38,\n",
              "         -8.1086e-27],\n",
              "        [ 0.0000e+00,  0.0000e+00,  0.0000e+00,  5.4411e-28,  0.0000e+00,\n",
              "         -1.0228e-17],\n",
              "        [-1.2183e-38,  0.0000e+00,  0.0000e+00,  0.0000e+00, -6.8016e-39,\n",
              "         -1.7698e-25],\n",
              "        [ 1.0305e-25,  5.4411e-28,  0.0000e+00,  5.0963e+30,  0.0000e+00,\n",
              "         -1.0228e-17],\n",
              "        [-1.8985e-38,  0.0000e+00, -6.8016e-39,  0.0000e+00,  5.4761e-09,\n",
              "         -1.5593e-28],\n",
              "        [-8.1086e-27, -1.0228e-17, -1.7698e-25, -1.0228e-17, -1.5593e-28,\n",
              "          1.2383e+34]])"
            ]
          },
          "metadata": {},
          "execution_count": 20
        }
      ]
    },
    {
      "cell_type": "code",
      "source": [
        "# Посчитайте производную функции y = x**3 + z - 75t в точке (1, 0.5, 2)\n"
      ],
      "metadata": {
        "id": "zMGdIbw9kIKV"
      },
      "execution_count": 10,
      "outputs": []
    },
    {
      "cell_type": "code",
      "source": [
        "# Создайте единичный тензор размера 5x6\n",
        "z = torch.ones(5, 6)\n",
        "z"
      ],
      "metadata": {
        "colab": {
          "base_uri": "https://localhost:8080/"
        },
        "id": "hTihEzwTkMp4",
        "outputId": "574eb807-6009-4f8c-ce54-bcafd3a55ddf"
      },
      "execution_count": 13,
      "outputs": [
        {
          "output_type": "execute_result",
          "data": {
            "text/plain": [
              "tensor([[1., 1., 1., 1., 1., 1.],\n",
              "        [1., 1., 1., 1., 1., 1.],\n",
              "        [1., 1., 1., 1., 1., 1.],\n",
              "        [1., 1., 1., 1., 1., 1.],\n",
              "        [1., 1., 1., 1., 1., 1.]])"
            ]
          },
          "metadata": {},
          "execution_count": 13
        }
      ]
    },
    {
      "cell_type": "code",
      "source": [
        "type(z)"
      ],
      "metadata": {
        "colab": {
          "base_uri": "https://localhost:8080/"
        },
        "id": "CCJcnGh3qEKS",
        "outputId": "10da07bd-301a-4972-c6ca-d3031cddafdf"
      },
      "execution_count": 22,
      "outputs": [
        {
          "output_type": "execute_result",
          "data": {
            "text/plain": [
              "torch.Tensor"
            ]
          },
          "metadata": {},
          "execution_count": 22
        }
      ]
    },
    {
      "cell_type": "code",
      "source": [
        "# Переведите его в формат numpy\n",
        "numpy_arr = z.numpy()\n",
        "numpy_arr"
      ],
      "metadata": {
        "colab": {
          "base_uri": "https://localhost:8080/"
        },
        "id": "31GjlW6WkS7y",
        "outputId": "3284ad00-71fa-4ff8-e3c8-90de6f9492ef"
      },
      "execution_count": 27,
      "outputs": [
        {
          "output_type": "execute_result",
          "data": {
            "text/plain": [
              "array([[1., 1., 1., 1., 1., 1.],\n",
              "       [1., 1., 1., 1., 1., 1.],\n",
              "       [1., 1., 1., 1., 1., 1.],\n",
              "       [1., 1., 1., 1., 1., 1.],\n",
              "       [1., 1., 1., 1., 1., 1.]], dtype=float32)"
            ]
          },
          "metadata": {},
          "execution_count": 27
        }
      ]
    },
    {
      "cell_type": "code",
      "source": [
        "type(numpy_arr)"
      ],
      "metadata": {
        "colab": {
          "base_uri": "https://localhost:8080/"
        },
        "id": "GNL_RkkvqJo0",
        "outputId": "d0d9abc5-444d-4e93-9bf2-2a3fe0ef191f"
      },
      "execution_count": 28,
      "outputs": [
        {
          "output_type": "execute_result",
          "data": {
            "text/plain": [
              "numpy.ndarray"
            ]
          },
          "metadata": {},
          "execution_count": 28
        }
      ]
    }
  ]
}