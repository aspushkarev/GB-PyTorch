{
  "nbformat": 4,
  "nbformat_minor": 0,
  "metadata": {
    "colab": {
      "provenance": []
    },
    "kernelspec": {
      "name": "python3",
      "display_name": "Python 3"
    },
    "language_info": {
      "name": "python"
    }
  },
  "cells": [
    {
      "cell_type": "code",
      "source": [
        "!pip install torch"
      ],
      "metadata": {
        "colab": {
          "base_uri": "https://localhost:8080/"
        },
        "id": "TeLGL4hZp12s",
        "outputId": "52b04bc4-6926-4964-dc0c-7db4d2c2457e"
      },
      "execution_count": 1,
      "outputs": [
        {
          "output_type": "stream",
          "name": "stdout",
          "text": [
            "Looking in indexes: https://pypi.org/simple, https://us-python.pkg.dev/colab-wheels/public/simple/\n",
            "Requirement already satisfied: torch in /usr/local/lib/python3.10/dist-packages (2.0.1+cu118)\n",
            "Requirement already satisfied: filelock in /usr/local/lib/python3.10/dist-packages (from torch) (3.12.0)\n",
            "Requirement already satisfied: typing-extensions in /usr/local/lib/python3.10/dist-packages (from torch) (4.5.0)\n",
            "Requirement already satisfied: sympy in /usr/local/lib/python3.10/dist-packages (from torch) (1.11.1)\n",
            "Requirement already satisfied: networkx in /usr/local/lib/python3.10/dist-packages (from torch) (3.1)\n",
            "Requirement already satisfied: jinja2 in /usr/local/lib/python3.10/dist-packages (from torch) (3.1.2)\n",
            "Requirement already satisfied: triton==2.0.0 in /usr/local/lib/python3.10/dist-packages (from torch) (2.0.0)\n",
            "Requirement already satisfied: cmake in /usr/local/lib/python3.10/dist-packages (from triton==2.0.0->torch) (3.25.2)\n",
            "Requirement already satisfied: lit in /usr/local/lib/python3.10/dist-packages (from triton==2.0.0->torch) (16.0.5)\n",
            "Requirement already satisfied: MarkupSafe>=2.0 in /usr/local/lib/python3.10/dist-packages (from jinja2->torch) (2.1.2)\n",
            "Requirement already satisfied: mpmath>=0.19 in /usr/local/lib/python3.10/dist-packages (from sympy->torch) (1.3.0)\n"
          ]
        }
      ]
    },
    {
      "cell_type": "code",
      "source": [
        "import torch\n",
        "import numpy as np\n"
      ],
      "metadata": {
        "id": "zIgXDY0wqGmc"
      },
      "execution_count": 2,
      "outputs": []
    },
    {
      "cell_type": "code",
      "execution_count": 18,
      "metadata": {
        "colab": {
          "base_uri": "https://localhost:8080/"
        },
        "id": "0wjmAOJnnmvv",
        "outputId": "16a5fa60-0046-42cb-9696-4d8d0387d85f"
      },
      "outputs": [
        {
          "output_type": "execute_result",
          "data": {
            "text/plain": [
              "tensor([[[1.9725e+33, 4.5741e-41, 1.8077e-43, 0.0000e+00, 2.3697e+18],\n",
              "         [4.5743e-41, 2.3697e+18, 4.5743e-41, 4.4842e-44, 0.0000e+00],\n",
              "         [4.4842e-44, 0.0000e+00, 3.2937e-34, 0.0000e+00, 1.1484e+18],\n",
              "         [4.5743e-41, 8.9683e-44, 0.0000e+00, 4.4842e-44, 0.0000e+00]],\n",
              "\n",
              "        [[3.2938e-34, 0.0000e+00, 1.1484e+18, 4.5743e-41, 1.3452e-43],\n",
              "         [0.0000e+00, 4.4842e-44, 0.0000e+00, 0.0000e+00, 0.0000e+00],\n",
              "         [1.1484e+18, 4.5743e-41, 2.4663e-43, 0.0000e+00, 8.9683e-44],\n",
              "         [0.0000e+00, 0.0000e+00, 0.0000e+00, 1.1484e+18, 4.5743e-41]],\n",
              "\n",
              "        [[1.9547e+33, 4.5741e-41, 1.1484e+18, 4.5743e-41, 1.9547e+33],\n",
              "         [4.5741e-41, 1.1484e+18, 4.5743e-41, 3.3631e-43, 0.0000e+00],\n",
              "         [1.7937e-43, 0.0000e+00, 0.0000e+00, 0.0000e+00, 1.1484e+18],\n",
              "         [4.5743e-41, 1.9545e+33, 4.5741e-41, 1.1484e+18, 4.5743e-41]]])"
            ]
          },
          "metadata": {},
          "execution_count": 18
        }
      ],
      "source": [
        "# Создайте случайный FloatTensor размера 3x4x5\n",
        "a = torch.FloatTensor(3, 4, 5)\n",
        "a"
      ]
    },
    {
      "cell_type": "code",
      "source": [
        "# Выведите его форму (shape)\n",
        "a.shape"
      ],
      "metadata": {
        "colab": {
          "base_uri": "https://localhost:8080/"
        },
        "id": "b5bZ2L2VqqX5",
        "outputId": "c6872b75-a64c-453e-8568-7823d5c6bce4"
      },
      "execution_count": 6,
      "outputs": [
        {
          "output_type": "execute_result",
          "data": {
            "text/plain": [
              "torch.Size([3, 4, 5])"
            ]
          },
          "metadata": {},
          "execution_count": 6
        }
      ]
    },
    {
      "cell_type": "code",
      "source": [
        "# Приведите его к форме 6х10\n",
        "a = a.reshape(6, 10)\n",
        "a"
      ],
      "metadata": {
        "colab": {
          "base_uri": "https://localhost:8080/"
        },
        "id": "QlhEXlaLrFwO",
        "outputId": "aca543fb-fa9e-435b-8bef-79dcb6d3dd9b"
      },
      "execution_count": 8,
      "outputs": [
        {
          "output_type": "execute_result",
          "data": {
            "text/plain": [
              "tensor([[1.1439e+18, 4.5743e-41, 3.9212e+08, 4.5743e-41, 1.3783e+18, 4.5743e-41,\n",
              "         3.9030e+08, 4.5743e-41, 1.3283e+18, 4.5743e-41],\n",
              "        [1.3288e+18, 4.5743e-41, 1.3674e+18, 4.5743e-41, 3.9305e+08, 4.5743e-41,\n",
              "         3.9215e+08, 4.5743e-41, 3.9305e+08, 4.5743e-41],\n",
              "        [9.6933e+07, 4.5743e-41, 1.3283e+18, 4.5743e-41, 1.0645e+18, 4.5743e-41,\n",
              "         1.0489e+18, 4.5743e-41, 3.9427e+08, 4.5743e-41],\n",
              "        [3.9427e+08, 4.5743e-41, 1.3306e+18, 4.5743e-41, 1.0428e+17, 4.5743e-41,\n",
              "         1.3290e+18, 4.5743e-41, 3.9308e+08, 4.5743e-41],\n",
              "        [1.0679e+09, 4.5743e-41, 3.9032e+08, 4.5743e-41, 1.2882e+18, 4.5743e-41,\n",
              "         2.6272e+17, 4.5743e-41, 4.1740e+17, 4.5743e-41],\n",
              "        [3.9430e+08, 4.5743e-41, 3.9308e+08, 4.5743e-41, 1.2468e+18, 4.5743e-41,\n",
              "         1.3538e+18, 4.5743e-41, 3.9032e+08, 4.5743e-41]])"
            ]
          },
          "metadata": {},
          "execution_count": 8
        }
      ]
    },
    {
      "cell_type": "code",
      "source": [
        "a.shape"
      ],
      "metadata": {
        "colab": {
          "base_uri": "https://localhost:8080/"
        },
        "id": "etU-pDoOraeI",
        "outputId": "24190d7d-331d-4c6f-97eb-bf8ef083b77a"
      },
      "execution_count": 9,
      "outputs": [
        {
          "output_type": "execute_result",
          "data": {
            "text/plain": [
              "torch.Size([6, 10])"
            ]
          },
          "metadata": {},
          "execution_count": 9
        }
      ]
    },
    {
      "cell_type": "code",
      "source": [
        "# Создайте случайный IntTensor размера 10\n",
        "b = torch.IntTensor(10)\n",
        "b"
      ],
      "metadata": {
        "colab": {
          "base_uri": "https://localhost:8080/"
        },
        "id": "a4kFUEjVrg2c",
        "outputId": "d4df4882-57b1-4978-d462-60a9ad7bf519"
      },
      "execution_count": 11,
      "outputs": [
        {
          "output_type": "execute_result",
          "data": {
            "text/plain": [
              "tensor([2070928920,      32642,  130307062,          0, 2070928920,      32642,\n",
              "        2070928920,      32642,          0,          0], dtype=torch.int32)"
            ]
          },
          "metadata": {},
          "execution_count": 11
        }
      ]
    },
    {
      "cell_type": "code",
      "source": [
        "# Умножьте созданный FloatTensor на созданный IntTensor поэлементно\n",
        "c = a * b\n",
        "c"
      ],
      "metadata": {
        "colab": {
          "base_uri": "https://localhost:8080/",
          "height": 198
        },
        "id": "uYFd7D1Yr34G",
        "outputId": "8267481e-96bf-4bd3-d409-2da9dde2baa8"
      },
      "execution_count": 19,
      "outputs": [
        {
          "output_type": "error",
          "ename": "RuntimeError",
          "evalue": "ignored",
          "traceback": [
            "\u001b[0;31m---------------------------------------------------------------------------\u001b[0m",
            "\u001b[0;31mRuntimeError\u001b[0m                              Traceback (most recent call last)",
            "\u001b[0;32m<ipython-input-19-21d753ab5710>\u001b[0m in \u001b[0;36m<cell line: 2>\u001b[0;34m()\u001b[0m\n\u001b[1;32m      1\u001b[0m \u001b[0;31m# Умножьте созданный FloatTensor на созданный IntTensor поэлементно\u001b[0m\u001b[0;34m\u001b[0m\u001b[0;34m\u001b[0m\u001b[0m\n\u001b[0;32m----> 2\u001b[0;31m \u001b[0mc\u001b[0m \u001b[0;34m=\u001b[0m \u001b[0ma\u001b[0m \u001b[0;34m*\u001b[0m \u001b[0mb\u001b[0m\u001b[0;34m\u001b[0m\u001b[0;34m\u001b[0m\u001b[0m\n\u001b[0m\u001b[1;32m      3\u001b[0m \u001b[0mc\u001b[0m\u001b[0;34m\u001b[0m\u001b[0;34m\u001b[0m\u001b[0m\n",
            "\u001b[0;31mRuntimeError\u001b[0m: The size of tensor a (5) must match the size of tensor b (10) at non-singleton dimension 2"
          ]
        }
      ]
    }
  ]
}